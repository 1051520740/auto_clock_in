{
 "metadata": {
  "language_info": {
   "codemirror_mode": {
    "name": "ipython",
    "version": 3
   },
   "file_extension": ".py",
   "mimetype": "text/x-python",
   "name": "python",
   "nbconvert_exporter": "python",
   "pygments_lexer": "ipython3",
   "version": "3.8.6-candidate"
  },
  "orig_nbformat": 2,
  "kernelspec": {
   "name": "python38664bitf48a3ee1f15d430ab565733639d5bd6b",
   "display_name": "Python 3.8.6 64-bit",
   "language": "python"
  }
 },
 "nbformat": 4,
 "nbformat_minor": 2,
 "cells": [
  {
   "cell_type": "code",
   "execution_count": null,
   "metadata": {},
   "outputs": [],
   "source": [
    "# -*- encoding: utf-8 -*-\n",
    "'''\n",
    "@File    :   daka.py\n",
    "@Time    :   2020/12/28 19:31:31\n",
    "@Author  :   Geralt \n",
    "@Version :   1.0\n",
    "@Contact :   superj0529@gmail.com\n",
    "'''\n",
    "\n",
    "# here put the import lib\n",
    "import re\n",
    "import sys\n",
    "import urllib\n",
    "from http import cookiejar\n",
    "\n",
    "def getLt(response): \n",
    "    #获取流水号\n",
    "    pattern = re.compile(r\"LT-[0-9]{6}-[0-9a-zA-Z]{30}-tpass\")\n",
    "    lt = pattern.findall(response)[0]\n",
    "    return lt\n",
    "\n",
    "def getToken(response):\n",
    "    #获取token\n",
    "    pattern = re.compile(r\"name=\\\"_token\\\"\\s+value=\\\"([0-9a-zA-Z]+)\\\"\")\n",
    "    _token = pattern.findall(response)[0]\n",
    "    return _token\n",
    "\n",
    "def getName(response):\n",
    "    #获取用户姓名\n",
    "    pattern = re.compile(r\"当前用户：\\s*(\\w+)\\s*\")\n",
    "    name = pattern.findall(response)[0]\n",
    "    return name\n",
    "\n"
   ]
  },
  {
   "cell_type": "code",
   "execution_count": null,
   "metadata": {},
   "outputs": [],
   "source": [
    "username='********'\n",
    "password='*********'"
   ]
  },
  {
   "cell_type": "code",
   "execution_count": null,
   "metadata": {},
   "outputs": [],
   "source": [
    "cookie = cookiejar.CookieJar()\n",
    "handler = urllib.request.HTTPCookieProcessor(cookie)\n",
    "opener = urllib.request.build_opener(handler)\n",
    "loginurl = \"https://ehall.neu.edu.cn/infoplus/login?retUrl=https://ehall.neu.edu.cn/infoplus/form/JKXXSB/start\"\n",
    "response1 = opener.open(loginurl)\n",
    "decode_txt1=response1.read().decode()\n"
   ]
  },
  {
   "cell_type": "code",
   "execution_count": null,
   "metadata": {},
   "outputs": [],
   "source": [
    "lt = getLt(decode_txt1)\n",
    "uid = username\n",
    "\n",
    "values1 = {\n",
    "    \"_eventId\":\"submit\",\n",
    "    \"execution\":\"e1s1\",\n",
    "    \"lt\":lt,\n",
    "    \"pl\":str(len(password)),\n",
    "    \"rsa\":uid+password+lt,\n",
    "    \"ul\":'8'\n",
    "}\n",
    "postdata1 = urllib.parse.urlencode(values1).encode(\"utf-8\")\n",
    "opener.addheaders = [(\"User-Agent\",'Mozilla/5.0 (Windows NT 10.0; Win64; x64) AppleWebKit/537.36 (KHTML, like Gecko) Chrome/87.0.4280.88 Safari/537.36'),('Connection', 'keep-alive')]\n",
    "response2 = opener.open(response1.geturl(), postdata1)\n",
    "\n",
    "decode_txt2 = response2.read().decode()\n"
   ]
  },
  {
   "cell_type": "code",
   "execution_count": null,
   "metadata": {},
   "outputs": [],
   "source": [
    "postdata1,lt,cookie"
   ]
  },
  {
   "cell_type": "code",
   "execution_count": null,
   "metadata": {},
   "outputs": [],
   "source": [
    "response2.getheaders()"
   ]
  },
  {
   "cell_type": "code",
   "execution_count": null,
   "metadata": {},
   "outputs": [],
   "source": [
    "with open('test.html','w',encoding='utf-8') as f:\n",
    " f.write(decode_txt2)"
   ]
  },
  {
   "cell_type": "code",
   "execution_count": null,
   "metadata": {},
   "outputs": [],
   "source": [
    "_token = getToken(decode_txt2)\n",
    "isForSelf = '1' \n",
    "name = getName(decode_txt2)\n",
    "sid = id\n",
    "\n",
    "formdata={\n",
    "'_token':_token,\n",
    "'cross_city':'无',\n",
    "'jiankangxinxi_muqianshentizhuangkuang':'正常',\n",
    "'jibenxinxi_shifoubenrenshangbao':isForSelf,\n",
    "'profile[suoshubanji]':'',\n",
    "'profile[xingming]':name,\n",
    "'profile[xuegonghao]':sid,\n",
    "'qitashixiang_qitaxuyaoshuomingdeshixiang':'',\n",
    "'xingchengxinxi_weizhishifouyoubianhua':'0',\n",
    "}\n",
    "postdata2 = urllib.parse.urlencode(formdata).encode(\"utf-8\")\n",
    "response3 = opener.open('https://e-report.neu.edu.cn/api/notes', postdata2)\n",
    "print(response3.status)"
   ]
  },
  {
   "cell_type": "code",
   "execution_count": null,
   "metadata": {},
   "outputs": [],
   "source": [
    "sid,name,isForSelf"
   ]
  }
 ]
}